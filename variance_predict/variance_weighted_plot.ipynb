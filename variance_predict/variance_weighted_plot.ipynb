{
 "cells": [
  {
   "cell_type": "code",
   "execution_count": 1,
   "metadata": {},
   "outputs": [
    {
     "name": "stderr",
     "output_type": "stream",
     "text": [
      "c:\\Users\\sixsa\\anaconda3\\envs\\helix\\Lib\\site-packages\\threadpoolctl.py:1214: RuntimeWarning: \n",
      "Found Intel OpenMP ('libiomp') and LLVM OpenMP ('libomp') loaded at\n",
      "the same time. Both libraries are known to be incompatible and this\n",
      "can cause random crashes or deadlocks on Linux when loaded in the\n",
      "same Python program.\n",
      "Using threadpoolctl may cause crashes or deadlocks. For more\n",
      "information and possible workarounds, please see\n",
      "    https://github.com/joblib/threadpoolctl/blob/master/multiple_openmp.md\n",
      "\n",
      "  warnings.warn(msg, RuntimeWarning)\n"
     ]
    }
   ],
   "source": [
    "import os\n",
    "import numpy as np\n",
    "import torch\n",
    "import torch.nn as nn\n",
    "from torch.utils.data import Dataset, DataLoader\n",
    "from tqdm import tqdm\n",
    "import torch.nn.functional as F\n",
    "from sklearn.preprocessing import MinMaxScaler\n",
    "import matplotlib.pyplot as plt\n",
    "import scipy.optimize\n",
    "import scipy.stats"
   ]
  },
  {
   "cell_type": "code",
   "execution_count": 2,
   "metadata": {},
   "outputs": [],
   "source": [
    "SEED = 172\n",
    "torch.manual_seed(SEED)\n",
    "torch.cuda.manual_seed_all(SEED)\n",
    "np.random.seed(SEED)\n",
    "\n",
    "TRAIN_RATIO = 0.8\n",
    "BATCH_SIZE = 1024\n",
    "LEARNING_RATE = 0.001\n",
    "# LEARNING_RATE = 0.001\n",
    "EPOCH = 60\n",
    "\n",
    "ENCODER_PATH = 'C:\\\\Users\\\\sixsa\\\\code\\\\UCI\\\\helix\\\\variance_predict\\\\gaussian\\\\weighted_results2\\\\encoder_epoch_80.pth'\n",
    "HELIX_PATH = \"C:\\\\Users\\\\sixsa\\\\code\\\\UCI\\\\helix\\\\tracks_100k_updated.txt\"\n",
    "VARIANCE_SAVE_PATH = 'C:\\\\Users\\\\sixsa\\\\code\\\\UCI\\\\helix\\\\temp_save\\\\variance_tensor_epoch_80_weighted.pt'\n",
    "DISTANCE_SAVE_PATH =  'C:\\\\Users\\\\sixsa\\\\code\\\\UCI\\\\helix\\\\temp_save\\\\distance_tensor_epoch_80_weighted.pt'"
   ]
  },
  {
   "cell_type": "code",
   "execution_count": 3,
   "metadata": {},
   "outputs": [],
   "source": [
    "class Dataset(Dataset):\n",
    "    def __init__(self, path, transform=None):\n",
    "        with open(path, 'r') as file:\n",
    "            content = file.read()\n",
    "            data_points = content.split('EOT')\n",
    "\n",
    "            data_points = [dp.strip() for dp in data_points if dp.strip()]\n",
    "            data_points = [dp.split('\\n') for dp in data_points]\n",
    "            data_points = [[[float(cell) for cell in row.split(', ')] for row in dp] for dp in data_points]\n",
    "            self.original_targets = np.array([dp[0] for dp in data_points])\n",
    "            input_points = [dp[1:] for dp in data_points]\n",
    "            targets_2 = np.delete(self.original_targets, 1, 1)\n",
    "            targets_2 = np.hstack((targets_2, np.cos(self.original_targets[:, 1])[..., None]))\n",
    "            targets_cos_sin = np.hstack((targets_2, np.sin(self.original_targets[:, 1])[..., None]))\n",
    "            self.scaler_cos_sin = MinMaxScaler()\n",
    "            self.scaler_original = MinMaxScaler()\n",
    "            \n",
    "            self.rescaled_targets_cos_sin = self.scaler_cos_sin.fit_transform(targets_cos_sin)\n",
    "            self.rescaled_targets_cos_sin = torch.tensor(self.rescaled_targets_cos_sin)\n",
    "            self.original_targets_cos_sin = torch.tensor(targets_cos_sin)\n",
    "\n",
    "            self.rescaled_targets_original = self.scaler_original.fit_transform(self.original_targets)\n",
    "            self.rescaled_targets_original = torch.tensor(self.rescaled_targets_original)\n",
    "            self.original_targets = torch.tensor(self.original_targets)\n",
    "            inputs = []\n",
    "            for input in input_points:\n",
    "                combined = []\n",
    "                for coordinate in input:\n",
    "                    combined += coordinate\n",
    "                inputs.append(combined)\n",
    "            self.inputs = torch.tensor(np.array(inputs))\n",
    "            # self.inputs = torch.tensor(np.array(input_points))\n",
    "\n",
    "    def __len__(self):\n",
    "        return len(self.rescaled_targets_cos_sin)\n",
    "\n",
    "    def __getitem__(self, idx):\n",
    "        target = self.original_targets[idx]\n",
    "        input = self.inputs[idx]\n",
    "        return input, target"
   ]
  },
  {
   "cell_type": "code",
   "execution_count": 4,
   "metadata": {},
   "outputs": [],
   "source": [
    "class Encoder(nn.Module):\n",
    "    def __init__(self):\n",
    "        super().__init__()\n",
    "        # self.layer1 = nn.Linear(30, 32)\n",
    "        # self.layer2 = nn.Linear(32, 64)\n",
    "        # self.layer3 = nn.Linear(64, 5)\n",
    "        self.layer1_mean = nn.Linear(30, 200)\n",
    "        self.layer2_mean = nn.Linear(200, 400)\n",
    "        self.layer3_mean = nn.Linear(400, 800)\n",
    "        self.layer4_mean = nn.Linear(800, 800)\n",
    "        self.layer5_mean = nn.Linear(800, 800)\n",
    "        self.layer6_mean = nn.Linear(800, 400)\n",
    "        self.layer7_mean = nn.Linear(400, 200)\n",
    "        self.output_layer_mean = nn.Linear(200, 6)\n",
    "\n",
    "        # self.layer1_var = nn.Linear(30, 200)\n",
    "        # self.layer2_var = nn.Linear(200, 400)\n",
    "        # self.layer3_var = nn.Linear(400, 800)\n",
    "        # self.layer4_var = nn.Linear(800, 800)\n",
    "        # self.layer5_var = nn.Linear(800, 800)\n",
    "        # self.layer6_var = nn.Linear(800, 400)\n",
    "        # self.layer7_var = nn.Linear(400, 200)\n",
    "        self.output_layer_var = nn.Linear(200, 6)\n",
    "\n",
    "\n",
    "    def forward(self, x):\n",
    "        x = F.leaky_relu(self.layer1_mean(x))\n",
    "        x = F.leaky_relu(self.layer2_mean(x))\n",
    "        x = F.leaky_relu(self.layer3_mean(x))\n",
    "        x = F.leaky_relu(self.layer4_mean(x))\n",
    "        x = F.leaky_relu(self.layer5_mean(x))\n",
    "        x = F.leaky_relu(self.layer6_mean(x))\n",
    "        x = F.leaky_relu(self.layer7_mean(x))\n",
    "        mean = self.output_layer_mean(x)\n",
    "        var = F.relu(self.output_layer_var(x))\n",
    "\n",
    "        return mean, var"
   ]
  },
  {
   "cell_type": "code",
   "execution_count": 5,
   "metadata": {},
   "outputs": [],
   "source": [
    "def wrap_angles_torch(angles):\n",
    "    \"\"\"Wrap angles to be within the range [0, 2π] in PyTorch.\"\"\"\n",
    "    two_pi = 2 * torch.pi  # Define 2π in PyTorch\n",
    "    return angles % two_pi\n",
    "\n",
    "def track_torch(phi, d0, phi0, pt, dz, tanl):\n",
    "    alpha = 1 / 2  # 1/cB\n",
    "    q = 1\n",
    "    kappa = q / pt\n",
    "    rho = alpha / kappa\n",
    "    x = d0 * torch.cos(phi0) + rho * (torch.cos(phi0) - torch.cos(phi0 + phi))\n",
    "    y = d0 * torch.sin(phi0) + rho * (torch.sin(phi0) - torch.sin(phi0 + phi))\n",
    "    z = dz - rho * tanl * phi\n",
    "    return x, y, z\n",
    "\n",
    "def fast_find_phi_torch(iphi, r02, d0, phi0, pt, dz, tanl, tolerance=0.01, max_iter=500):\n",
    "    ra2 = torch.zeros(d0.size(), device=d0.device)\n",
    "    phia = torch.zeros(d0.size(), device=d0.device)\n",
    "    phib = torch.full(d0.size(), iphi, device=d0.device)\n",
    "\n",
    "    for i in range(max_iter):\n",
    "        xb, yb, zb = track_torch(phib, d0, phi0, pt, dz, tanl)\n",
    "        rb2 = (xb * xb + yb * yb).float()\n",
    "        delta_r = (rb2 - ra2).abs()\n",
    "\n",
    "        # Print statements for debugging\n",
    "        #print(f\"Iteration {i}:\")\n",
    "        #print(\"phib:\", phib)\n",
    "        #print(\"phia:\", phia)\n",
    "        #print(\"ra2:\", ra2)\n",
    "        #print(\"rb2:\", rb2)\n",
    "        #print(\"delta_r:\", delta_r)\n",
    "        #print(\"r02:\", r02)\n",
    "        \n",
    "        # Stop if all deltas are below tolerance\n",
    "        if (delta_r < tolerance).all():\n",
    "            #print(\"Convergence achieved.\")\n",
    "            break\n",
    "\n",
    "        # Mask for (rb2 > r02) and (ra2 < r02)\n",
    "        mask1 = (rb2 > r02) & (ra2 < r02)\n",
    "        phib[mask1] = phia[mask1] + (phib[mask1] - phia[mask1]) * (r02[mask1] - ra2[mask1]) / (rb2[mask1] - ra2[mask1] + 1e-10)\n",
    "        #phib = wrap_angles_torch(phib)\n",
    "\n",
    "        # Mask for (rb2 < r02) and (ra2 < r02), excluding elements affected by mask1\n",
    "        mask2 = (rb2 < r02) & (ra2 < r02) & ~mask1\n",
    "        phibnew = phib.clone()\n",
    "        phibnew[mask2] = phia[mask2] + (phib[mask2] - phia[mask2]) * (r02[mask2] - ra2[mask2]) / (rb2[mask2] - ra2[mask2] + 1e-10)\n",
    "        #phibnew = wrap_angles_torch(phibnew)\n",
    "        phia[mask2] = phib[mask2]\n",
    "        ra2[mask2] = rb2[mask2]\n",
    "        phib[mask2] = phibnew[mask2]\n",
    "\n",
    "\n",
    "        # Mask for (rb2 > r02) and (ra2 > r02), excluding elements affected by mask1 and mask2\n",
    "        mask3 = (rb2 > r02) & (ra2 > r02) & ~mask1 & ~mask2\n",
    "        phianew = phia.clone()\n",
    "        phianew[mask3] = phib[mask3] + (phia[mask3] - phib[mask3]) * (r02[mask3] - rb2[mask3]) / (ra2[mask3] - rb2[mask3] + 1e-10)\n",
    "        #phianew = wrap_angles_torch(phianew)\n",
    "        phib[mask3] = phia[mask3]\n",
    "        rb2[mask3] = ra2[mask3]\n",
    "        phia[mask3] = phianew[mask3]\n",
    "\n",
    "        #phia = wrap_angles_torch(phia)\n",
    "        #phib = wrap_angles_torch(phib)\n",
    "\n",
    "        # Recalculate rb2 for elements where phib was modified by mask1\n",
    "        xb, yb, zb = track_torch(phib, d0, phi0, pt, dz, tanl)\n",
    "        rb2 = (xb * xb + yb * yb).float()\n",
    "\n",
    "        #print(\"updated rb2 \", rb2)\n",
    "\n",
    "        # Recalculate ra2 after applying mask3\n",
    "        xa, ya, za = track_torch(phia, d0, phi0, pt, dz, tanl)\n",
    "        ra2 = (xa * xa + ya * ya).float()\n",
    "        #print(\"updated ra2 \", rb2)\n",
    "\n",
    "    #print(\"Final values:\")\n",
    "    #print(\"phib:\", phib)\n",
    "    #print(\"phia:\", phia)\n",
    "    #print(\"ra2:\", ra2)\n",
    "    #print(\"rb2:\", rb2)\n",
    "\n",
    "        \n",
    "\n",
    "    return wrap_angles_torch(phib), delta_r\n",
    "\n",
    "\n",
    "def make_hits_noiseless_torch_batch(params, min_r0=1.0, max_r0=10.0, nlayers=10):\n",
    "    d0, phi0, pt, dz, tanl = params[:, 0], params[:, 1], params[:, 2], params[:, 3], params[:, 4]\n",
    "    \n",
    "    xs = []\n",
    "    ys = []\n",
    "    zs = []\n",
    "    best_phi0s = []\n",
    "\n",
    "    # Generate initial phis for optimization\n",
    "    #initial_phis = torch.arange(4, device=params.device) * (2 * torch.pi / 4)\n",
    "    initial_phis = torch.linspace(0, 2 * torch.pi * (4/5), steps=5, device=params.device, dtype=torch.float)[1:]\n",
    "\n",
    "    #print(\"initial phis \", initial_phis)\n",
    "    #sys.exit()\n",
    "\n",
    "    for r0 in torch.linspace(min_r0, max_r0, nlayers, device=params.device):\n",
    "        r02 = r0 * r0\n",
    "        best_phi0_optimized = torch.zeros_like(d0)  # Initialize with a default value\n",
    "        best_delta_r = torch.full(d0.shape, float('inf'), device=params.device)  # Initialize to large values\n",
    "\n",
    "        # Loop through initial `phib` values to find the best `phi0` for each point\n",
    "        for iphi in initial_phis:\n",
    "            phi0_optimized, delta_r = fast_find_phi_torch(iphi, r02.expand_as(d0), d0, phi0, pt, dz, tanl)\n",
    "            \n",
    "            # Update `best_phi0_optimized` and `best_delta_r` for each point where a lower delta_r is found\n",
    "            is_better = delta_r < best_delta_r\n",
    "            best_phi0_optimized = torch.where(is_better, phi0_optimized, best_phi0_optimized)\n",
    "            best_delta_r = torch.where(is_better, delta_r, best_delta_r)\n",
    "        \n",
    "\n",
    "\n",
    "        #print(\"best_phi0_optimized \", best_phi0_optimized)\n",
    "        #sys.exit()\n",
    "        # Compute track position with the optimized phi\n",
    "        x0, y0, z0 = track_torch(best_phi0_optimized, d0, phi0, pt, dz, tanl)\n",
    "\n",
    "        #print(\"d0, phi0, pt, dz, tanl\", d0, phi0, pt, dz, tanl)\n",
    "        #print(\"r0 was \", r0)\n",
    "        #print(\"x0 was \", x0)\n",
    "        \n",
    "        xs.append(x0)\n",
    "        ys.append(y0)\n",
    "        zs.append(z0)\n",
    "        best_phi0s.append(best_phi0_optimized)  # Save the best phi0 for this layer\n",
    "\n",
    "    # Stack results into a single tensor of shape (batch_size, nlayers, 3)\n",
    "    hits = torch.stack((torch.stack(xs), torch.stack(ys), torch.stack(zs)), dim=-1).permute(1, 2, 0)\n",
    "\n",
    "    # Stack best phi0 values into a tensor of shape (batch_size, nlayers)\n",
    "    best_phi0_array = torch.stack(best_phi0s, dim=1)\n",
    "\n",
    "    return hits, best_delta_r, best_phi0_array"
   ]
  },
  {
   "cell_type": "code",
   "execution_count": 6,
   "metadata": {},
   "outputs": [],
   "source": [
    "def change_trig_to_angle(input):\n",
    "    cos_values = input[:, 4]\n",
    "    sin_values = input[:, 5]\n",
    "    pred_angle = torch.atan2(sin_values, cos_values)\n",
    "    pred_angle= torch.remainder(pred_angle, np.pi).reshape(input.shape[0], 1)\n",
    "    return torch.hstack((input[:, 0:1], pred_angle, input[:, 1:4]))"
   ]
  },
  {
   "cell_type": "code",
   "execution_count": 7,
   "metadata": {},
   "outputs": [],
   "source": [
    "def calc_distance(encoder, encoder_optimizer, encoder_scheduler, dataset: Dataset, val_dl, device, prev_encoder_path, data_size):\n",
    "    print(f\"Loading model from {prev_encoder_path}\")\n",
    "    checkpoint = torch.load(prev_encoder_path)\n",
    "    encoder.load_state_dict(checkpoint['model_state_dict'])\n",
    "    encoder_optimizer.load_state_dict(checkpoint['optimizer_state_dict'])\n",
    "\n",
    "    with torch.no_grad():\n",
    "        encoder_outputs_mean = torch.zeros(data_size, 6)\n",
    "        encoder_outputs_var = torch.zeros(data_size, 6)\n",
    "        distances = torch.zeros(data_size)\n",
    "        current_size = 0\n",
    "        for input, target in val_dl:\n",
    "            input = input.float().to(device)\n",
    "            target = target.float().to(device)\n",
    "            mean, variance = encoder(input)\n",
    "            mean = mean.to('cpu')\n",
    "            scale_restored_mean_cos_sin = torch.tensor(dataset.scaler_cos_sin.inverse_transform(mean)).to(device)\n",
    "            scale_restored_mean = change_trig_to_angle(scale_restored_mean_cos_sin)\n",
    "\n",
    "            # hits is of shape (batch_size, nlayers, 3)\n",
    "            hits_using_pred, best_delta_r, best_phi0s = make_hits_noiseless_torch_batch(scale_restored_mean)\n",
    "            hits_using_target, _, _ = make_hits_noiseless_torch_batch(target)\n",
    "\n",
    "            squared_diff = (hits_using_pred - hits_using_target) ** 2\n",
    "            batch_distance = squared_diff.sum(dim=-1).sum(dim=-1) # calculate the chisq\n",
    "\n",
    "            distances[current_size:current_size + batch_distance.shape[0]] = batch_distance\n",
    "            encoder_outputs_mean[current_size:current_size + batch_distance.shape[0], :] = mean\n",
    "            encoder_outputs_var[current_size:current_size + batch_distance.shape[0], :] = variance\n",
    "            current_size += batch_distance.shape[0]\n",
    "    \n",
    "    print(scale_restored_mean)\n",
    "    print(target)\n",
    "        \n",
    "    return encoder_outputs_mean, encoder_outputs_var, distances"
   ]
  },
  {
   "cell_type": "code",
   "execution_count": 8,
   "metadata": {},
   "outputs": [],
   "source": [
    "def run():\n",
    "    device = torch.device('cuda' if torch.cuda.is_available() else 'cpu')\n",
    "    print(f'Using device: {device}')\n",
    "\n",
    "    dataset = Dataset(HELIX_PATH)\n",
    "    train_size = int(TRAIN_RATIO * len(dataset))\n",
    "    val_size = len(dataset) - train_size\n",
    "\n",
    "    dataloader = DataLoader(dataset, batch_size=BATCH_SIZE, shuffle=False)\n",
    "\n",
    "    encoder = Encoder()\n",
    "    encoder = encoder.to(device)\n",
    "\n",
    "    if torch.cuda.is_available():\n",
    "        encoder.cuda()\n",
    "    encoder_optimizer = torch.optim.Adam(encoder.parameters(), lr = LEARNING_RATE)\n",
    "    encoder_scheduler = torch.optim.lr_scheduler.MultiStepLR(encoder_optimizer, milestones=[15, 30, 50], gamma=0.5)\n",
    "    \n",
    "    parameter_prediction, variance_prediction, distances = calc_distance(encoder, encoder_optimizer,  encoder_scheduler, dataset=dataset, val_dl=dataloader, device=device, \n",
    "                  prev_encoder_path=ENCODER_PATH, data_size=len(dataset))\n",
    "\n",
    "    return parameter_prediction, variance_prediction, distances, dataset"
   ]
  },
  {
   "cell_type": "code",
   "execution_count": 9,
   "metadata": {},
   "outputs": [
    {
     "name": "stdout",
     "output_type": "stream",
     "text": [
      "Using device: cuda\n",
      "Loading model from C:\\Users\\sixsa\\code\\UCI\\helix\\variance_predict\\gaussian\\weighted_results2\\encoder_epoch_80.pth\n"
     ]
    },
    {
     "name": "stderr",
     "output_type": "stream",
     "text": [
      "C:\\Users\\sixsa\\AppData\\Local\\Temp\\ipykernel_25616\\4154598806.py:3: FutureWarning: You are using `torch.load` with `weights_only=False` (the current default value), which uses the default pickle module implicitly. It is possible to construct malicious pickle data which will execute arbitrary code during unpickling (See https://github.com/pytorch/pytorch/blob/main/SECURITY.md#untrusted-models for more details). In a future release, the default value for `weights_only` will be flipped to `True`. This limits the functions that could be executed during unpickling. Arbitrary objects will no longer be allowed to be loaded via this mode unless they are explicitly allowlisted by the user via `torch.serialization.add_safe_globals`. We recommend you start setting `weights_only=True` for any use case where you don't have full control of the loaded file. Please open an issue on GitHub for any issues related to this experimental feature.\n",
      "  checkpoint = torch.load(prev_encoder_path)\n"
     ]
    },
    {
     "name": "stdout",
     "output_type": "stream",
     "text": [
      "tensor([[ 8.2608e-03,  3.2126e-01,  1.1733e+02,  5.9944e-01,  2.2706e-01],\n",
      "        [ 8.6699e-03,  1.0733e+00,  1.1887e+02, -1.2812e-01,  2.4299e-01],\n",
      "        [ 7.8244e-03,  2.2940e+00,  1.0338e+02, -9.4778e-01, -4.3422e-02],\n",
      "        ...,\n",
      "        [ 8.4345e-03,  1.6196e+00,  1.1279e+02, -7.8486e-02,  5.2726e-02],\n",
      "        [ 8.4345e-03,  1.7880e+00,  1.1105e+02, -7.0171e-01, -2.8976e-02],\n",
      "        [ 7.6756e-03,  1.3713e+00,  1.0296e+02,  1.5721e-01, -1.1960e-02]],\n",
      "       device='cuda:0', dtype=torch.float64)\n",
      "tensor([[ 8.7000e-03,  7.0000e-02,  2.5880e+01,  3.0000e-01,  1.9000e-01],\n",
      "        [ 9.0000e-03,  1.0300e+00,  9.1130e+01, -4.8000e-01,  1.4000e-01],\n",
      "        [ 2.2600e-02,  2.4600e+00,  3.7050e+01, -1.3100e+00,  5.0000e-02],\n",
      "        ...,\n",
      "        [ 1.2000e-03,  1.4500e+00,  1.6148e+02, -4.0000e-01, -9.0000e-02],\n",
      "        [ 1.3000e-02,  1.6600e+00,  1.8984e+02, -1.0500e+00, -3.4000e-01],\n",
      "        [ 4.0000e-03,  4.2800e+00,  1.0348e+02, -1.6000e-01, -7.0000e-02]],\n",
      "       device='cuda:0')\n"
     ]
    }
   ],
   "source": [
    "parameters_prediction, variance_prediction, distances, dataset = run()"
   ]
  },
  {
   "cell_type": "code",
   "execution_count": 10,
   "metadata": {},
   "outputs": [],
   "source": [
    "variance_file = VARIANCE_SAVE_PATH\n",
    "torch.save(variance_prediction, variance_file)"
   ]
  },
  {
   "cell_type": "code",
   "execution_count": 11,
   "metadata": {},
   "outputs": [],
   "source": [
    "distance_file = DISTANCE_SAVE_PATH\n",
    "torch.save(distances, distance_file)"
   ]
  },
  {
   "cell_type": "code",
   "execution_count": 12,
   "metadata": {},
   "outputs": [],
   "source": [
    "variance_prediction_mean = torch.mean(variance_prediction, dim=1)"
   ]
  },
  {
   "cell_type": "code",
   "execution_count": 13,
   "metadata": {},
   "outputs": [
    {
     "data": {
      "image/png": "[encoded data removed]",
      "text/plain": [
       "<Figure size 1000x1000 with 1 Axes>"
      ]
     },
     "metadata": {},
     "output_type": "display_data"
    }
   ],
   "source": [
    "plt.figure(figsize=(10, 10))\n",
    "plt.scatter(distances, variance_prediction_mean, color='blue', marker='o', label='Data Points')\n",
    "plt.xlabel(\"chisq distance\")  \n",
    "plt.ylabel(\"average variance\") \n",
    "plt.legend()\n",
    "plt.show()"
   ]
  },
  {
   "cell_type": "code",
   "execution_count": 14,
   "metadata": {},
   "outputs": [],
   "source": [
    "parameters_prediction_scale_restored = dataset.scaler_cos_sin.inverse_transform(parameters_prediction)\n",
    "parameters_prediction_scale_restored = torch.tensor(parameters_prediction_scale_restored)"
   ]
  },
  {
   "cell_type": "code",
   "execution_count": 15,
   "metadata": {},
   "outputs": [
    {
     "data": {
      "text/plain": [
       "tensor([[ 7.6331e-03,  2.5582e-01,  1.0689e+02,  3.4324e-01,  1.0438e-01],\n",
       "        [ 8.9693e-03,  1.1591e+00,  1.1823e+02, -1.8046e+00,  2.4723e-01],\n",
       "        [ 7.5798e-03,  1.3694e+00,  1.0428e+02,  5.9885e-01, -2.4998e-02],\n",
       "        ...,\n",
       "        [ 8.4345e-03,  1.6196e+00,  1.1279e+02, -7.8486e-02,  5.2726e-02],\n",
       "        [ 8.4345e-03,  1.7880e+00,  1.1105e+02, -7.0171e-01, -2.8976e-02],\n",
       "        [ 7.6756e-03,  1.3713e+00,  1.0296e+02,  1.5721e-01, -1.1960e-02]],\n",
       "       dtype=torch.float64)"
      ]
     },
     "execution_count": 15,
     "metadata": {},
     "output_type": "execute_result"
    }
   ],
   "source": [
    "parameters_prediction_scale_restored_angle = change_trig_to_angle(parameters_prediction_scale_restored)\n",
    "parameters_prediction_scale_restored_angle"
   ]
  },
  {
   "cell_type": "code",
   "execution_count": 16,
   "metadata": {},
   "outputs": [
    {
     "data": {
      "text/plain": [
       "tensor([[ 8.5000e-03,  3.1300e+00,  1.5818e+02,  5.0000e-02,  3.7000e-01],\n",
       "        [ 4.0000e-03,  1.0800e+00,  5.1750e+01, -2.1300e+00,  1.7000e-01],\n",
       "        [ 1.2200e-02,  4.2700e+00,  1.8801e+02,  3.5000e-01, -1.7000e-01],\n",
       "        ...,\n",
       "        [ 1.2000e-03,  1.4500e+00,  1.6148e+02, -4.0000e-01, -9.0000e-02],\n",
       "        [ 1.3000e-02,  1.6600e+00,  1.8984e+02, -1.0500e+00, -3.4000e-01],\n",
       "        [ 4.0000e-03,  4.2800e+00,  1.0348e+02, -1.6000e-01, -7.0000e-02]],\n",
       "       dtype=torch.float64)"
      ]
     },
     "execution_count": 16,
     "metadata": {},
     "output_type": "execute_result"
    }
   ],
   "source": [
    "target_parameters_with_angle = dataset.original_targets\n",
    "target_parameters_with_angle"
   ]
  },
  {
   "cell_type": "code",
   "execution_count": 17,
   "metadata": {},
   "outputs": [
    {
     "name": "stdout",
     "output_type": "stream",
     "text": [
      "tensor([[5.1100e-02, 6.2800e+00, 1.7499e+02, 8.8100e+00, 2.7500e+00]],\n",
      "       dtype=torch.float64)\n",
      "tensor([[ 9.4707, 27.0458, 25.2186,  3.4427,  6.4065]], dtype=torch.float64)\n"
     ]
    }
   ],
   "source": [
    "result_mae = torch.mean(torch.abs(parameters_prediction_scale_restored_angle - target_parameters_with_angle), dim=0)\n",
    "MIN_PER_COLUMN = torch.min(target_parameters_with_angle, dim=0, keepdim=True)\n",
    "MAX_PER_COLUMN = torch.max(target_parameters_with_angle, dim=0, keepdim=True)\n",
    "RANGE_PER_COLUMN = (MAX_PER_COLUMN.values - MIN_PER_COLUMN.values)\n",
    "RANGE_PER_COLUMN_NUMPY = RANGE_PER_COLUMN.numpy()\n",
    "print(RANGE_PER_COLUMN)\n",
    "print(torch.div(result_mae, RANGE_PER_COLUMN) * 100)"
   ]
  },
  {
   "cell_type": "code",
   "execution_count": 18,
   "metadata": {},
   "outputs": [
    {
     "data": {
      "text/plain": [
       "tensor([[0.0257, 0.0171, 0.0000, 0.0198, 0.0500, 0.0396],\n",
       "        [0.0138, 0.0103, 0.0000, 0.0229, 0.0392, 0.0285],\n",
       "        [0.0213, 0.0139, 0.0000, 0.0188, 0.0469, 0.0336],\n",
       "        ...,\n",
       "        [0.0189, 0.0099, 0.0000, 0.0209, 0.0376, 0.0276],\n",
       "        [0.0213, 0.0110, 0.0000, 0.0271, 0.0419, 0.0289],\n",
       "        [0.0180, 0.0126, 0.0000, 0.0185, 0.0448, 0.0307]])"
      ]
     },
     "execution_count": 18,
     "metadata": {},
     "output_type": "execute_result"
    }
   ],
   "source": [
    "variance_prediction"
   ]
  }
 ],
 "metadata": {
  "kernelspec": {
   "display_name": "helix",
   "language": "python",
   "name": "python3"
  },
  "language_info": {
   "codemirror_mode": {
    "name": "ipython",
    "version": 3
   },
   "file_extension": ".py",
   "mimetype": "text/x-python",
   "name": "python",
   "nbconvert_exporter": "python",
   "pygments_lexer": "ipython3",
   "version": "3.12.4"
  }
 },
 "nbformat": 4,
 "nbformat_minor": 2
}
