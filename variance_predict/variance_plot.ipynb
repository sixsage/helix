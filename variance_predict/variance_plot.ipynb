{
 "cells": [
  {
   "cell_type": "code",
   "execution_count": 1,
   "metadata": {},
   "outputs": [
    {
     "name": "stderr",
     "output_type": "stream",
     "text": [
      "c:\\Users\\Kyuho\\anaconda3\\envs\\helix\\Lib\\site-packages\\threadpoolctl.py:1214: RuntimeWarning: \n",
      "Found Intel OpenMP ('libiomp') and LLVM OpenMP ('libomp') loaded at\n",
      "the same time. Both libraries are known to be incompatible and this\n",
      "can cause random crashes or deadlocks on Linux when loaded in the\n",
      "same Python program.\n",
      "Using threadpoolctl may cause crashes or deadlocks. For more\n",
      "information and possible workarounds, please see\n",
      "    https://github.com/joblib/threadpoolctl/blob/master/multiple_openmp.md\n",
      "\n",
      "  warnings.warn(msg, RuntimeWarning)\n"
     ]
    }
   ],
   "source": [
    "import os\n",
    "import numpy as np\n",
    "import torch\n",
    "import torch.nn as nn\n",
    "from torch.utils.data import Dataset, DataLoader\n",
    "from tqdm import tqdm\n",
    "import torch.nn.functional as F\n",
    "from sklearn.preprocessing import MinMaxScaler\n",
    "import matplotlib.pyplot as plt\n",
    "import scipy.optimize\n",
    "import scipy.stats"
   ]
  },
  {
   "cell_type": "code",
   "execution_count": 29,
   "metadata": {},
   "outputs": [],
   "source": [
    "SEED = 172\n",
    "torch.manual_seed(SEED)\n",
    "torch.cuda.manual_seed_all(SEED)\n",
    "np.random.seed(SEED)\n",
    "\n",
    "TRAIN_RATIO = 0.8\n",
    "BATCH_SIZE = 1024\n",
    "LEARNING_RATE = 0.001\n",
    "# LEARNING_RATE = 0.001\n",
    "EPOCH = 60\n",
    "\n",
    "ENCODER_PATH = 'C:\\\\Users\\\\Kyuho\\\\code\\\\UCI\\\\helix\\\\variance_predict\\\\gaussian\\\\results3\\\\encoder_epoch_140.pth'\n",
    "DECODER_PATH = 'C:\\\\Users\\\\Kyuho\\\\code\\\\UCI\\\\helix\\\\variance_predict\\\\gaussian\\\\results3\\\\decoder_epoch_150.pth'\n",
    "HELIX_PATH = \"C:\\\\Users\\\\Kyuho\\\\code\\\\UCI\\\\helix\\\\tracks_100k_updated.txt\"\n",
    "THRESHOLD = 2.5"
   ]
  },
  {
   "cell_type": "code",
   "execution_count": 30,
   "metadata": {},
   "outputs": [],
   "source": [
    "class Dataset(Dataset):\n",
    "    def __init__(self, path, transform=None):\n",
    "        with open(path, 'r') as file:\n",
    "            content = file.read()\n",
    "            data_points = content.split('EOT')\n",
    "\n",
    "            data_points = [dp.strip() for dp in data_points if dp.strip()]\n",
    "            data_points = [dp.split('\\n') for dp in data_points]\n",
    "            data_points = [[[float(cell) for cell in row.split(', ')] for row in dp] for dp in data_points]\n",
    "            self.original_targets = np.array([dp[0] for dp in data_points])\n",
    "            input_points = [dp[1:] for dp in data_points]\n",
    "            targets_2 = np.delete(self.original_targets, 1, 1)\n",
    "            targets_2 = np.hstack((targets_2, np.cos(self.original_targets[:, 1])[..., None]))\n",
    "            targets_cos_sin = np.hstack((targets_2, np.sin(self.original_targets[:, 1])[..., None]))\n",
    "            self.scaler = MinMaxScaler()\n",
    "            self.rescaled_targets = self.scaler.fit_transform(targets_cos_sin)\n",
    "            self.rescaled_targets = torch.tensor(self.rescaled_targets)\n",
    "            self.original_targets_cos_sin = torch.tensor(targets_cos_sin)\n",
    "            self.original_targets = torch.tensor(self.original_targets)\n",
    "            inputs = []\n",
    "            for input in input_points:\n",
    "                combined = []\n",
    "                for coordinate in input:\n",
    "                    combined += coordinate\n",
    "                inputs.append(combined)\n",
    "            self.inputs = torch.tensor(np.array(inputs))\n",
    "            # self.inputs = torch.tensor(np.array(input_points))\n",
    "\n",
    "    def __len__(self):\n",
    "        return len(self.rescaled_targets)\n",
    "\n",
    "    def __getitem__(self, idx):\n",
    "        target = self.rescaled_targets[idx]\n",
    "        input = self.inputs[idx]\n",
    "        return input, target"
   ]
  },
  {
   "cell_type": "code",
   "execution_count": 31,
   "metadata": {},
   "outputs": [],
   "source": [
    "class Encoder(nn.Module):\n",
    "    def __init__(self):\n",
    "        super().__init__()\n",
    "        # self.layer1 = nn.Linear(30, 32)\n",
    "        # self.layer2 = nn.Linear(32, 64)\n",
    "        # self.layer3 = nn.Linear(64, 5)\n",
    "        self.layer1_mean = nn.Linear(30, 200)\n",
    "        self.layer2_mean = nn.Linear(200, 400)\n",
    "        self.layer3_mean = nn.Linear(400, 800)\n",
    "        self.layer4_mean = nn.Linear(800, 800)\n",
    "        self.layer5_mean = nn.Linear(800, 800)\n",
    "        self.layer6_mean = nn.Linear(800, 400)\n",
    "        self.layer7_mean = nn.Linear(400, 200)\n",
    "        self.output_layer_mean = nn.Linear(200, 6)\n",
    "\n",
    "        # self.layer1_var = nn.Linear(30, 200)\n",
    "        # self.layer2_var = nn.Linear(200, 400)\n",
    "        # self.layer3_var = nn.Linear(400, 800)\n",
    "        # self.layer4_var = nn.Linear(800, 800)\n",
    "        # self.layer5_var = nn.Linear(800, 800)\n",
    "        # self.layer6_var = nn.Linear(800, 400)\n",
    "        # self.layer7_var = nn.Linear(400, 200)\n",
    "        self.output_layer_var = nn.Linear(200, 6)\n",
    "\n",
    "\n",
    "    def forward(self, x):\n",
    "        x = F.leaky_relu(self.layer1_mean(x))\n",
    "        x = F.leaky_relu(self.layer2_mean(x))\n",
    "        x = F.leaky_relu(self.layer3_mean(x))\n",
    "        x = F.leaky_relu(self.layer4_mean(x))\n",
    "        x = F.leaky_relu(self.layer5_mean(x))\n",
    "        x = F.leaky_relu(self.layer6_mean(x))\n",
    "        x = F.leaky_relu(self.layer7_mean(x))\n",
    "        mean = self.output_layer_mean(x)\n",
    "        var = F.relu(self.output_layer_var(x))\n",
    "\n",
    "        return mean, var\n",
    "    \n",
    "class Decoder(nn.Module):\n",
    "\n",
    "    def __init__(self):\n",
    "        super().__init__()\n",
    "        # self.layer1 = nn.Linear(5, 64)\n",
    "        # self.layer2 = nn.Linear(64, 32)\n",
    "        # self.layer3 = nn.Linear(32, 30)\n",
    "        self.layer1 = nn.Linear(12, 200)\n",
    "        self.layer2 = nn.Linear(200, 200)\n",
    "        self.layer3 = nn.Linear(200, 200)\n",
    "        self.layer4 = nn.Linear(200, 400)\n",
    "        self.layer5 = nn.Linear(400, 800)\n",
    "        self.layer6 = nn.Linear(800, 800)\n",
    "        self.layer7 = nn.Linear(800, 800)\n",
    "        self.layer8 = nn.Linear(800, 400)\n",
    "        self.layer9 = nn.Linear(400, 200)\n",
    "        self.output_layer = nn.Linear(200, 30)\n",
    "\n",
    "    def forward(self, x):\n",
    "        x = F.relu(self.layer1(x))\n",
    "        x = F.relu(self.layer2(x))\n",
    "        x = F.relu(self.layer3(x))\n",
    "        x = F.relu(self.layer4(x))\n",
    "        x = F.relu(self.layer5(x))\n",
    "        x = F.relu(self.layer6(x))\n",
    "        x = F.relu(self.layer7(x))\n",
    "        x = F.relu(self.layer8(x))\n",
    "        x = F.relu(self.layer9(x))\n",
    "        x = self.output_layer(x)\n",
    "        return x"
   ]
  },
  {
   "cell_type": "code",
   "execution_count": 32,
   "metadata": {},
   "outputs": [],
   "source": [
    "def calc_distance(encoder, decoder, encoder_optimizer, decoder_optimizer, encoder_scheduler, decoder_scheduler, val_dl, device, prev_encoder_path, prev_decoder_path, data_size):\n",
    "    print(f\"Loading model from {prev_encoder_path}\")\n",
    "    checkpoint = torch.load(prev_encoder_path)\n",
    "    encoder.load_state_dict(checkpoint['model_state_dict'])\n",
    "    encoder_optimizer.load_state_dict(checkpoint['optimizer_state_dict'])\n",
    "\n",
    "    print(f\"Loading model from {prev_decoder_path}\")\n",
    "    checkpoint = torch.load(prev_decoder_path)\n",
    "    decoder.load_state_dict(checkpoint['model_state_dict'])\n",
    "    decoder_optimizer.load_state_dict(checkpoint['optimizer_state_dict'])\n",
    "    \n",
    "    with torch.no_grad():\n",
    "        decoder_outputs = torch.zeros(data_size, 10, 3)\n",
    "        encoder_outputs_mean = torch.zeros(data_size, 6)\n",
    "        encoder_outputs_var = torch.zeros(data_size, 6)\n",
    "        distances = torch.zeros(data_size)\n",
    "        current_size = 0\n",
    "        for input, target in val_dl:\n",
    "            input = input.float().to(device)\n",
    "            target = target.float().to(device)\n",
    "            mean, variance = encoder(input)\n",
    "            mean_and_variance = torch.cat((mean, variance), dim=1)\n",
    "            decoder_output = decoder(mean_and_variance)\n",
    "            first_dim = torch.numel(decoder_output)  // 30\n",
    "            decoder_output = decoder_output.reshape(first_dim, 10, 3)\n",
    "            reshaped_points = input.reshape(first_dim, 10, 3)\n",
    "            squared_diff = (decoder_output - reshaped_points) ** 2\n",
    "            pairwise_distances = torch.sqrt(squared_diff.sum(dim=-1))\n",
    "            distance = pairwise_distances.sum(dim=-1)\n",
    "            # distance = torch.norm(decoder_output - reshaped_points, 2, dim=(1, 2))\n",
    "            # distance = torch.sum(torch.square(output_points - reshaped_points), dim=(1, 2))\n",
    "            distances[current_size:current_size + distance.shape[0]] = distance\n",
    "            encoder_outputs_mean[current_size:current_size + distance.shape[0], :] = mean\n",
    "            encoder_outputs_var[current_size:current_size + distance.shape[0], :] = variance\n",
    "            decoder_outputs[current_size:current_size + target.shape[0], :, :] = decoder_output\n",
    "            current_size += distance.shape[0]\n",
    "    \n",
    "    print(mean_and_variance)\n",
    "    print(decoder_output)\n",
    "        \n",
    "    return encoder_outputs_mean, encoder_outputs_var, decoder_outputs, distances\n",
    "\n",
    "    # print(distances[-1])\n",
    "    # print(distances)\n",
    "    # print(distances.shape)\n",
    "    # print(torch.mean(distances))\n",
    "    # print(\"predictions:\", predictions)\n",
    "    # print(\"targets:\", targets)\n",
    "    # print(\"predicted helix but was actually non-helix\")\n",
    "    # predict_helix = predictions == 1\n",
    "    # wrong = predictions != targets\n",
    "    # mask = torch.logical_and(predict_helix, wrong)\n",
    "    # print(predictions[mask].size())\n",
    "    # print(\"predicted non-helix but was helix\")\n",
    "    # predict_non_helix = predictions == 0\n",
    "    # wrong = predictions != targets\n",
    "    # mask = torch.logical_and(predict_non_helix, wrong)\n",
    "    # print(predictions[mask].size())\n",
    "    # print((predictions == targets).float().mean().item())"
   ]
  },
  {
   "cell_type": "code",
   "execution_count": 33,
   "metadata": {},
   "outputs": [],
   "source": [
    "def run():\n",
    "    device = torch.device('cuda' if torch.cuda.is_available() else 'cpu')\n",
    "    print(f'Using device: {device}')\n",
    "\n",
    "    dataset = Dataset(HELIX_PATH)\n",
    "    train_size = int(TRAIN_RATIO * len(dataset))\n",
    "    val_size = len(dataset) - train_size\n",
    "\n",
    "    dataloader = DataLoader(dataset, batch_size=BATCH_SIZE, shuffle=False)\n",
    "\n",
    "    encoder = Encoder()\n",
    "    encoder = encoder.to(device)\n",
    "    decoder = Decoder()\n",
    "    decoder = decoder.to(device)\n",
    "\n",
    "    if torch.cuda.is_available():\n",
    "        encoder.cuda()\n",
    "        decoder.cuda()\n",
    "    encoder_criterion = nn.MSELoss()\n",
    "    decoder_criterion = nn.MSELoss()\n",
    "    encoder_optimizer = torch.optim.Adam(encoder.parameters(), lr = LEARNING_RATE)\n",
    "    decoder_optimizer = torch.optim.Adam(decoder.parameters(), lr = LEARNING_RATE)\n",
    "    encoder_scheduler = torch.optim.lr_scheduler.MultiStepLR(encoder_optimizer, milestones=[15, 30, 50], gamma=0.5)\n",
    "    decoder_scheduler = torch.optim.lr_scheduler.MultiStepLR(decoder_optimizer, milestones=[15, 30, 50], gamma=0.1)\n",
    "    \n",
    "    parameter_prediction, variance_prediction, point_prediction, distances = calc_distance(encoder, decoder, encoder_optimizer, decoder_optimizer, encoder_scheduler, decoder_scheduler, val_dl=dataloader, device=device, \n",
    "                  prev_encoder_path=ENCODER_PATH, prev_decoder_path=DECODER_PATH, data_size=len(dataset))\n",
    "\n",
    "    return parameter_prediction, variance_prediction, point_prediction, distances, dataset"
   ]
  },
  {
   "cell_type": "code",
   "execution_count": 34,
   "metadata": {},
   "outputs": [
    {
     "name": "stdout",
     "output_type": "stream",
     "text": [
      "Using device: cuda\n",
      "Loading model from C:\\Users\\Kyuho\\code\\UCI\\helix\\variance_predict\\gaussian\\results3\\encoder_epoch_140.pth\n",
      "Loading model from C:\\Users\\Kyuho\\code\\UCI\\helix\\variance_predict\\gaussian\\results3\\decoder_epoch_150.pth\n"
     ]
    },
    {
     "name": "stderr",
     "output_type": "stream",
     "text": [
      "C:\\Users\\Kyuho\\AppData\\Local\\Temp\\ipykernel_18592\\921354270.py:3: FutureWarning: You are using `torch.load` with `weights_only=False` (the current default value), which uses the default pickle module implicitly. It is possible to construct malicious pickle data which will execute arbitrary code during unpickling (See https://github.com/pytorch/pytorch/blob/main/SECURITY.md#untrusted-models for more details). In a future release, the default value for `weights_only` will be flipped to `True`. This limits the functions that could be executed during unpickling. Arbitrary objects will no longer be allowed to be loaded via this mode unless they are explicitly allowlisted by the user via `torch.serialization.add_safe_globals`. We recommend you start setting `weights_only=True` for any use case where you don't have full control of the loaded file. Please open an issue on GitHub for any issues related to this experimental feature.\n",
      "  checkpoint = torch.load(prev_encoder_path)\n",
      "C:\\Users\\Kyuho\\AppData\\Local\\Temp\\ipykernel_18592\\921354270.py:8: FutureWarning: You are using `torch.load` with `weights_only=False` (the current default value), which uses the default pickle module implicitly. It is possible to construct malicious pickle data which will execute arbitrary code during unpickling (See https://github.com/pytorch/pytorch/blob/main/SECURITY.md#untrusted-models for more details). In a future release, the default value for `weights_only` will be flipped to `True`. This limits the functions that could be executed during unpickling. Arbitrary objects will no longer be allowed to be loaded via this mode unless they are explicitly allowlisted by the user via `torch.serialization.add_safe_globals`. We recommend you start setting `weights_only=True` for any use case where you don't have full control of the loaded file. Please open an issue on GitHub for any issues related to this experimental feature.\n",
      "  checkpoint = torch.load(prev_decoder_path)\n"
     ]
    },
    {
     "name": "stdout",
     "output_type": "stream",
     "text": [
      "tensor([[0.1661, 0.2318, 0.7179,  ..., 1.3023, 3.1059, 4.3463],\n",
      "        [0.1215, 0.2321, 0.6225,  ..., 1.1628, 3.0344, 3.9261],\n",
      "        [0.0725, 0.3328, 0.3681,  ..., 0.2200, 1.7345, 2.2882],\n",
      "        ...,\n",
      "        [0.0779, 0.2370, 0.5235,  ..., 0.9456, 2.5989, 3.3827],\n",
      "        [0.0735, 0.2614, 0.4814,  ..., 0.7595, 2.2770, 3.0198],\n",
      "        [0.0314, 0.1185, 0.3596,  ..., 0.5233, 2.2108, 2.3248]],\n",
      "       device='cuda:0')\n",
      "tensor([[[ 1.5162e-01, -9.9812e-01,  2.2335e-01],\n",
      "         [ 3.5314e-01, -1.9913e+00, -5.0946e-03],\n",
      "         [ 6.1949e-01, -2.9642e+00, -2.1087e-01],\n",
      "         ...,\n",
      "         [ 3.0039e+00, -7.3915e+00, -1.3013e+00],\n",
      "         [ 3.6678e+00, -8.1715e+00, -1.5258e+00],\n",
      "         [ 4.3906e+00, -8.9170e+00, -1.7461e+00]],\n",
      "\n",
      "        [[ 8.7189e-01, -4.8640e-01, -6.4044e-01],\n",
      "         [ 1.7512e+00, -9.7379e-01, -7.8705e-01],\n",
      "         [ 2.6323e+00, -1.4560e+00, -9.3125e-01],\n",
      "         ...,\n",
      "         [ 7.1552e+00, -3.5733e+00, -1.6821e+00],\n",
      "         [ 8.0773e+00, -3.9595e+00, -1.8268e+00],\n",
      "         [ 8.9993e+00, -4.3262e+00, -1.9809e+00]],\n",
      "\n",
      "        [[ 5.8273e-01,  7.9872e-01, -1.3467e+00],\n",
      "         [ 1.1397e+00,  1.6281e+00, -1.4067e+00],\n",
      "         [ 1.6371e+00,  2.4818e+00, -1.4640e+00],\n",
      "         ...,\n",
      "         [ 3.4740e+00,  7.2346e+00, -1.7646e+00],\n",
      "         [ 3.6706e+00,  8.2465e+00, -1.8265e+00],\n",
      "         [ 3.8576e+00,  9.2836e+00, -1.8880e+00]],\n",
      "\n",
      "        ...,\n",
      "\n",
      "        [[ 9.9369e-01, -1.0769e-01, -3.0209e-01],\n",
      "         [ 1.9866e+00, -2.1842e-01, -2.4317e-01],\n",
      "         [ 2.9789e+00, -3.0043e-01, -1.8512e-01],\n",
      "         ...,\n",
      "         [ 7.9944e+00, -4.9467e-01,  1.0543e-01],\n",
      "         [ 8.9948e+00, -4.9196e-01,  1.6097e-01],\n",
      "         [ 1.0005e+01, -4.6773e-01,  2.2988e-01]],\n",
      "\n",
      "        [[ 9.8605e-01,  1.1291e-01, -8.0016e-01],\n",
      "         [ 1.9815e+00,  2.1029e-01, -4.8055e-01],\n",
      "         [ 2.9823e+00,  3.2336e-01, -1.4480e-01],\n",
      "         ...,\n",
      "         [ 7.9338e+00,  1.0470e+00,  1.4257e+00],\n",
      "         [ 8.9490e+00,  1.2072e+00,  1.7315e+00],\n",
      "         [ 9.9457e+00,  1.4082e+00,  2.0666e+00]],\n",
      "\n",
      "        [[-9.1506e-01,  4.0596e-01, -1.2383e-01],\n",
      "         [-1.8345e+00,  8.0498e-01, -5.3798e-02],\n",
      "         [-2.7605e+00,  1.1866e+00,  1.7279e-02],\n",
      "         ...,\n",
      "         [-7.4904e+00,  2.7896e+00,  3.1863e-01],\n",
      "         [-8.4601e+00,  3.0438e+00,  3.7705e-01],\n",
      "         [-9.4239e+00,  3.2754e+00,  4.5086e-01]]], device='cuda:0')\n"
     ]
    }
   ],
   "source": [
    "parameters_prediction, variance_prediction, points_prediction, distances, dataset = run()"
   ]
  },
  {
   "cell_type": "code",
   "execution_count": 35,
   "metadata": {},
   "outputs": [
    {
     "name": "stdout",
     "output_type": "stream",
     "text": [
      "tensor([0.9744, 0.8996, 0.4991,  ..., 1.3228, 1.9690, 0.6946],\n",
      "       dtype=torch.float64)\n",
      "tensor([0.9744, 0.8996, 0.4991,  ..., 1.3228, 1.9690, 0.6946])\n"
     ]
    }
   ],
   "source": [
    "original_inputs = dataset.inputs.reshape(points_prediction.shape[0], 10, 3)\n",
    "# print(torch.sqrt(torch.sum(torch.square(points_prediction - original_inputs), dim=(1, 2))))\n",
    "squared_diff = (points_prediction - original_inputs) ** 2\n",
    "pairwise_distances = torch.sqrt(squared_diff.sum(dim=-1))\n",
    "print(pairwise_distances.sum(dim=-1))\n",
    "print(distances)"
   ]
  },
  {
   "cell_type": "code",
   "execution_count": 36,
   "metadata": {},
   "outputs": [],
   "source": [
    "def absolute_difference(prediction, actual):\n",
    "    return torch.abs(actual - prediction)\n",
    "\n",
    "def change_trig_to_angle(input):\n",
    "    cos_values = input[:, 4]\n",
    "    sin_values = input[:, 5]\n",
    "    pred_angle = torch.atan2(sin_values, cos_values)\n",
    "    pred_angle= torch.remainder(pred_angle, np.pi).reshape(input.shape[0], 1)\n",
    "    return torch.hstack((input[:, 0:1], pred_angle, input[:, 1:4]))"
   ]
  },
  {
   "cell_type": "code",
   "execution_count": 37,
   "metadata": {},
   "outputs": [],
   "source": [
    "parameters_prediction = dataset.scaler.inverse_transform(parameters_prediction)\n",
    "parameters_prediction_cos_sin = torch.tensor(parameters_prediction)\n",
    "parameters_prediction_with_angle = change_trig_to_angle(parameters_prediction_cos_sin)\n",
    "original_parameters_with_angle = dataset.original_targets"
   ]
  },
  {
   "cell_type": "code",
   "execution_count": 41,
   "metadata": {},
   "outputs": [],
   "source": [
    "variance_prediction = dataset.scaler.inverse_transform(variance_prediction)"
   ]
  },
  {
   "cell_type": "code",
   "execution_count": 42,
   "metadata": {},
   "outputs": [
    {
     "data": {
      "text/plain": [
       "array([[ 1.73516017e-01,  3.84636824e+02,  4.35953893e+00,\n",
       "        -9.54468852e-02,  3.65278791e+00,  4.43041321e+00],\n",
       "       [ 2.26403790e-01,  4.92996930e+02,  4.79345144e+00,\n",
       "         1.93740769e+00,  5.23760336e+00,  7.22603447e+00],\n",
       "       [ 1.32186789e-01,  2.91626868e+02, -8.04860220e-01,\n",
       "         4.74076861e-02,  3.38747064e+00,  3.70533912e+00],\n",
       "       ...,\n",
       "       [ 1.84235652e-01,  3.85641504e+02,  2.49943616e+00,\n",
       "         1.24052516e+00,  4.19788825e+00,  5.76541972e+00],\n",
       "       [ 1.71844288e-01,  3.51338315e+02,  2.24814881e+00,\n",
       "         7.28700637e-01,  3.55398874e+00,  5.03950687e+00],\n",
       "       [ 1.31240118e-01,  2.89702910e+02, -9.97000501e-01,\n",
       "         7.90894026e-02,  3.42163505e+00,  3.64956547e+00]])"
      ]
     },
     "execution_count": 42,
     "metadata": {},
     "output_type": "execute_result"
    }
   ],
   "source": [
    "variance_prediction"
   ]
  },
  {
   "cell_type": "code",
   "execution_count": 39,
   "metadata": {},
   "outputs": [
    {
     "name": "stdout",
     "output_type": "stream",
     "text": [
      "tensor([[10.5475, 26.5612, 33.3716, 13.2761,  8.0200]], dtype=torch.float64)\n"
     ]
    }
   ],
   "source": [
    "result_mae = torch.mean(absolute_difference(parameters_prediction_with_angle, original_parameters_with_angle), dim=0)\n",
    "MIN_PER_COLUMN = torch.min(original_parameters_with_angle, dim=0, keepdim=True)\n",
    "MAX_PER_COLUMN = torch.max(original_parameters_with_angle, dim=0, keepdim=True)\n",
    "RANGE_PER_COLUMN = (MAX_PER_COLUMN.values - MIN_PER_COLUMN.values)\n",
    "RANGE_PER_COLUMN_NUMPY = RANGE_PER_COLUMN.numpy()\n",
    "print(torch.div(result_mae, RANGE_PER_COLUMN) * 100)\n",
    "\n",
    "def calculate_parameter_error(original, prediction):\n",
    "    original = np.array(original)\n",
    "    prediction = np.array(prediction)\n",
    "    error = np.abs(original - prediction)\n",
    "    return error / RANGE_PER_COLUMN_NUMPY * 100"
   ]
  },
  {
   "cell_type": "code",
   "execution_count": 40,
   "metadata": {},
   "outputs": [
    {
     "data": {
      "text/plain": [
       "tensor([[5.1100e-02, 6.2800e+00, 1.7499e+02, 8.8100e+00, 2.7500e+00]],\n",
       "       dtype=torch.float64)"
      ]
     },
     "execution_count": 40,
     "metadata": {},
     "output_type": "execute_result"
    }
   ],
   "source": [
    "RANGE_PER_COLUMN"
   ]
  },
  {
   "cell_type": "code",
   "execution_count": 43,
   "metadata": {},
   "outputs": [],
   "source": [
    "list_distances = distances.tolist()\n",
    "list_original_parameters_with_angle = original_parameters_with_angle.tolist()\n",
    "list_original_inputs = original_inputs.tolist()\n",
    "list_parameters_prediction = parameters_prediction_with_angle.tolist()\n",
    "list_points_prediction = points_prediction.tolist()\n",
    "list_variance_prediction = variance_prediction.tolist()"
   ]
  },
  {
   "cell_type": "code",
   "execution_count": 44,
   "metadata": {},
   "outputs": [],
   "source": [
    "combined = zip(list_distances, list_original_parameters_with_angle, list_original_inputs, list_parameters_prediction, list_variance_prediction, list_points_prediction)\n",
    "sorted_combined = sorted(combined)"
   ]
  },
  {
   "cell_type": "code",
   "execution_count": 45,
   "metadata": {},
   "outputs": [],
   "source": [
    "min_r0=1.0\n",
    "max_r0=10.0\n",
    "nlayers=10\n",
    "sigma=0.01\n",
    "\n",
    "def track(phi, d0,phi0,pt,dz,tanl):\n",
    "    alpha = 1/2 # 1/cB\n",
    "    q=1\n",
    "    kappa = q/pt\n",
    "    rho = alpha/kappa\n",
    "    x = d0*np.cos(phi0) + rho*(np.cos(phi0)-np.cos(phi0+phi))\n",
    "    y = d0*np.sin(phi0) + rho*(np.sin(phi0)-np.sin(phi0+phi))\n",
    "    z = dz - rho*tanl*phi\n",
    "    return x,y,z\n",
    "\n",
    "def dr(phi, r02,d0,phi0,pt,dz,tanl):\n",
    "\n",
    "    # get the xyz of the track at this phi\n",
    "    x,y,z = track(phi, d0,phi0,pt,dz,tanl)\n",
    "    r2=x*x+y*y\n",
    "\n",
    "    # get the distance from the target r02\n",
    "    dr = np.fabs(r2-r02)\n",
    "\n",
    "    return dr\n",
    "\n",
    "def find_phi(r0, d0,phi0,pt,dz,tanl):\n",
    "\n",
    "    # this is lazy, but rather than inverting the equations we just minimize the distance\n",
    "    res = scipy.optimize.minimize(dr,0,method='Nelder-Mead',args = (r0, d0,phi0,pt,dz,tanl))#, bounds =(0,1.0))\n",
    "\n",
    "    return res.x[0]\n",
    "\n",
    "\n",
    "# find the intersections with the detector layers for these track parameters, add noise\n",
    "def make_hits(params):\n",
    "    xs=[]\n",
    "    ys=[]\n",
    "    zs =[]\n",
    "    \n",
    "    for r0 in np.linspace(min_r0,max_r0,nlayers):\n",
    "        phi0 = find_phi(r0*r0,*params)\n",
    "        x0,y0,z0 = track(phi0,*params)\n",
    "        xs.append(x0)\n",
    "        ys.append(y0)\n",
    "        zs.append(z0)\n",
    "\n",
    "\n",
    "    return xs,ys,zs"
   ]
  },
  {
   "cell_type": "code",
   "execution_count": 51,
   "metadata": {},
   "outputs": [],
   "source": [
    "def separateXYZ(combined):\n",
    "    x = [x for x, y, z in combined]\n",
    "    y = [y for x, y, z in combined]\n",
    "    z = [z for x, y, z in combined]\n",
    "\n",
    "    return x, y, z\n",
    "\n",
    "def plotTracks(combined):\n",
    "    distances, original_targets, original_points, predicted_targets, predicted_variance, predicted_points = combined\n",
    "    original_x, original_y, original_z = make_hits(original_targets)\n",
    "    pred_x, pred_y, pred_z = make_hits(predicted_targets)\n",
    "\n",
    "    figure, axis = plt.subplots(1, 2)\n",
    "    axis[0].plot(original_x,original_y,\".\",color='green')\n",
    "    axis[0].plot(pred_x,pred_y,\"x\",color='red')\n",
    "    axis[0].legend([\"original xy\", \"predicted_xy\"])\n",
    "    axis[0].set_xlim(-10, 10)\n",
    "    axis[0].set_ylim(-10, 10)\n",
    "\n",
    "    axis[1].plot(original_x,original_z,\".\",color='green')\n",
    "    axis[1].plot(pred_x,pred_z,\"x\",color='red')\n",
    "    axis[1].legend([\"original xz\", \"predicted_xz\"])\n",
    "    axis[1].set_xlim(-10, 10)\n",
    "    axis[1].set_ylim(-10, 10)\n",
    "    plt.show()\n",
    "\n",
    "\n",
    "def plotPoints(combined):\n",
    "    distances, original_targets, original_points, predicted_targets, predicted_variance, predicted_points = combined\n",
    "    original_x, original_y, original_z = separateXYZ(original_points)\n",
    "    pred_x, pred_y, pred_z = separateXYZ(predicted_points)\n",
    "\n",
    "    original_param_x, original_param_y, original_param_z = make_hits(original_targets)\n",
    "    pred_param_x, pred_param_y, pred_param_z = make_hits(predicted_targets)\n",
    "\n",
    "    print(\"original:\", original_targets)\n",
    "    print(\"predicted:\", predicted_targets)\n",
    "    print(\"error:\", calculate_parameter_error(original_targets, predicted_targets))\n",
    "    print(\"distance:\", distances)\n",
    "    print(\"variance:\", predicted_variance)\n",
    "\n",
    "    figure, axis = plt.subplots(1, 2)\n",
    "    axis[0].plot(original_x,original_y,\".\",color='green')\n",
    "    axis[0].plot(pred_x,pred_y,\".\",color='red')\n",
    "    # axis[0].plot(original_param_x,original_param_y,\"x\",color='blue')\n",
    "    # axis[0].plot(pred_param_x,pred_param_y,\"x\",color='orange')\n",
    "    axis[0].legend([\"original xy\", \"predicted_xy\"])\n",
    "    axis[0].set_xlim(-10, 10)\n",
    "    axis[0].set_ylim(-10, 10)\n",
    "\n",
    "    axis[1].plot(original_x,original_z,\".\",color='green')\n",
    "    axis[1].plot(pred_x,pred_z,\".\",color='red')\n",
    "    # axis[1].plot(original_param_x,original_param_z,\"x\",color='blue')\n",
    "    # axis[1].plot(pred_param_x,pred_param_z,\"x\",color='orange')\n",
    "    axis[1].legend([\"original xz\", \"predicted_xz\"])\n",
    "    axis[1].set_xlim(-10, 10)\n",
    "    axis[1].set_ylim(-10, 10)\n",
    "    plt.show()\n"
   ]
  },
  {
   "cell_type": "code",
   "execution_count": 57,
   "metadata": {},
   "outputs": [
    {
     "name": "stdout",
     "output_type": "stream",
     "text": [
      "original: [0.0006, 4.43, 155.27, 2.87, -1.06]\n",
      "predicted: [0.006423769354820251, 1.5805213508352565, 74.080462051332, 0.5583729743957521, -0.7575397497415545]\n",
      "error: [[11.39680891 45.37386384 46.39667292 26.23867225 10.99855455]]\n",
      "distance: 10.023906707763672\n",
      "variance: [0.18483166577816007, 409.3930687785148, 3.490008320808411, 0.4692103260755537, 3.6507027029424126, 5.609983448135953]\n"
     ]
    },
    {
     "data": {
      "image/png": "[encoded data removed]",
      "text/plain": [
       "<Figure size 640x480 with 2 Axes>"
      ]
     },
     "metadata": {},
     "output_type": "display_data"
    }
   ],
   "source": [
    "target = sorted_combined[-1]\n",
    "plotPoints(target)"
   ]
  }
 ],
 "metadata": {
  "kernelspec": {
   "display_name": "helix",
   "language": "python",
   "name": "python3"
  },
  "language_info": {
   "codemirror_mode": {
    "name": "ipython",
    "version": 3
   },
   "file_extension": ".py",
   "mimetype": "text/x-python",
   "name": "python",
   "nbconvert_exporter": "python",
   "pygments_lexer": "ipython3",
   "version": "3.11.9"
  }
 },
 "nbformat": 4,
 "nbformat_minor": 2
}
