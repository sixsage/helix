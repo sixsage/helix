{
 "cells": [
  {
   "cell_type": "code",
   "execution_count": 1,
   "metadata": {},
   "outputs": [],
   "source": [
    "from xgboost import XGBRegressor\n",
    "import numpy as np\n",
    "\n",
    "TRAIN_PATH = 'tracks_1m_updated_non_gaussian_wider.txt'\n",
    "with open(TRAIN_PATH, 'r') as file:\n",
    "    content = file.read()\n",
    "data_points = content.split('EOT')\n",
    "\n",
    "data_points = [dp.strip() for dp in data_points if dp.strip()]\n",
    "data_points = [dp.split('\\n') for dp in data_points]\n",
    "data_points = [[[float(cell) for cell in row.split(', ')] for row in dp] for dp in data_points]\n",
    "targets = [dp[0] for dp in data_points]\n",
    "np_targets = np.array(targets)\n",
    "inputs = [dp[1:] for dp in data_points]\n",
    "inputs = np.array(inputs)"
   ]
  },
  {
   "cell_type": "code",
   "execution_count": null,
   "metadata": {},
   "outputs": [],
   "source": [
    "model = XGBRegressor(device=\"cuda\")\n",
    "model.fit(inputs, targets)"
   ]
  },
  {
   "cell_type": "code",
   "execution_count": null,
   "metadata": {},
   "outputs": [],
   "source": [
    "VAL_PATH = 'tracks_100k_updated_non_gaussian_wider.txt'\n",
    "with open(VAL_PATH, 'r') as file:\n",
    "    content = file.read()\n",
    "data_points = content.split('EOT')\n",
    "\n",
    "data_points = [dp.strip() for dp in data_points if dp.strip()]\n",
    "data_points = [dp.split('\\n') for dp in data_points]\n",
    "data_points = [[[float(cell) for cell in row.split(', ')] for row in dp] for dp in data_points]\n",
    "targets = [dp[0] for dp in data_points]\n",
    "test_targets = np.array(targets)\n",
    "inputs = [dp[1:] for dp in data_points]\n",
    "test_inputs = np.array(inputs)"
   ]
  }
 ],
 "metadata": {
  "kernelspec": {
   "display_name": "helix",
   "language": "python",
   "name": "python3"
  },
  "language_info": {
   "codemirror_mode": {
    "name": "ipython",
    "version": 3
   },
   "file_extension": ".py",
   "mimetype": "text/x-python",
   "name": "python",
   "nbconvert_exporter": "python",
   "pygments_lexer": "ipython3",
   "version": "3.12.4"
  }
 },
 "nbformat": 4,
 "nbformat_minor": 2
}
