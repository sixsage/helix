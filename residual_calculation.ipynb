{
 "cells": [
  {
   "cell_type": "code",
   "execution_count": 1,
   "metadata": {},
   "outputs": [
    {
     "name": "stderr",
     "output_type": "stream",
     "text": [
      "c:\\Users\\sixsa\\anaconda3\\envs\\helix\\Lib\\site-packages\\threadpoolctl.py:1214: RuntimeWarning: \n",
      "Found Intel OpenMP ('libiomp') and LLVM OpenMP ('libomp') loaded at\n",
      "the same time. Both libraries are known to be incompatible and this\n",
      "can cause random crashes or deadlocks on Linux when loaded in the\n",
      "same Python program.\n",
      "Using threadpoolctl may cause crashes or deadlocks. For more\n",
      "information and possible workarounds, please see\n",
      "    https://github.com/joblib/threadpoolctl/blob/master/multiple_openmp.md\n",
      "\n",
      "  warnings.warn(msg, RuntimeWarning)\n"
     ]
    }
   ],
   "source": [
    "import os\n",
    "import numpy as np\n",
    "import torch\n",
    "import torch.nn as nn\n",
    "from torch.utils.data import Dataset, DataLoader\n",
    "from tqdm import tqdm\n",
    "import torch.nn.functional as F\n",
    "from sklearn.preprocessing import MinMaxScaler\n",
    "import matplotlib.pyplot as plt\n",
    "import scipy.optimize\n",
    "import scipy.stats"
   ]
  },
  {
   "cell_type": "code",
   "execution_count": 2,
   "metadata": {},
   "outputs": [],
   "source": [
    "SEED = 0\n",
    "torch.manual_seed(SEED)\n",
    "torch.cuda.manual_seed_all(SEED)\n",
    "np.random.seed(SEED)\n",
    "\n",
    "TRAIN_RATIO = 0.8\n",
    "BATCH_SIZE = 1024\n",
    "LEARNING_RATE = 0.001\n",
    "# LEARNING_RATE = 0.001\n",
    "EPOCH = 50\n",
    "\n",
    "# RESULTS_PATH = 'autoencoder_points\\\\results2\\\\'\n",
    "# DATASET_PATH = 'tracks_100k_updated.txt'\n",
    "# ENCODER_PATH = 'autoencoder_points\\\\results_trig7_minmax\\\\encoder_epoch_50.pth'\n",
    "# DECODER_PATH = 'autoencoder_points\\\\results_trig7_minmax\\\\decoder_epoch_50.pth'\n",
    "\n",
    "# ENCODER_PATH = 'asymmetric\\\\results3_higher_trig_minmax\\\\encoder_epoch_50.pth'\n",
    "# DECODER_PATH = 'asymmetric\\\\results3_higher_trig_minmax\\\\decoder_epoch_50.pth'\n",
    "# HELIX_PATH = 'tracks_100k_updated_asymmetric_higher_test.txt'\n",
    "# NON_HELIX_PATH = 'sintracks_100k_updated_asymmetric_higher_test.txt'\n",
    "\n",
    "# ENCODER_PATH = 'not_gaussian\\\\results6_trig_wider_minmax\\\\encoder_epoch_100.pth'\n",
    "# DECODER_PATH = 'not_gaussian\\\\results6_trig_wider_minmax\\\\decoder_epoch_100.pth'\n",
    "# HELIX_PATH = 'tracks_100k_updated_non_gaussian_wider_test.txt'\n",
    "# NON_HELIX_PATH = 'sintracks_100k_updated_non_gaussian_wider_test.txt'\n",
    "\n",
    "ENCODER_PATH = 'autoencoder_points\\\\results_trig11_minmax\\\\encoder_epoch_100.pth'\n",
    "DECODER_PATH = 'autoencoder_points\\\\results_trig11_minmax\\\\decoder_epoch_100.pth'\n",
    "HELIX_PATH = 'tracks_100k_updated_test.txt'\n",
    "NON_HELIX_PATH = 'sintracks_100k_updated_test.txt'"
   ]
  },
  {
   "cell_type": "code",
   "execution_count": 3,
   "metadata": {},
   "outputs": [],
   "source": [
    "class Dataset(Dataset):\n",
    "    def __init__(self, path, transform=None):\n",
    "        with open(path, 'r') as file:\n",
    "            content = file.read()\n",
    "            data_points = content.split('EOT')\n",
    "\n",
    "            data_points = [dp.strip() for dp in data_points if dp.strip()]\n",
    "            data_points = [dp.split('\\n') for dp in data_points]\n",
    "            data_points = [[[float(cell) for cell in row.split(', ')] for row in dp] for dp in data_points]\n",
    "            self.original_targets = np.array([dp[0] for dp in data_points])\n",
    "            input_points = [dp[1:] for dp in data_points]\n",
    "            targets_2 = np.delete(self.original_targets, 1, 1)\n",
    "            targets_2 = np.hstack((targets_2, np.cos(self.original_targets[:, 1])[..., None]))\n",
    "            targets_cos_sin = np.hstack((targets_2, np.sin(self.original_targets[:, 1])[..., None]))\n",
    "            self.scaler = MinMaxScaler()\n",
    "            self.rescaled_targets = self.scaler.fit_transform(targets_cos_sin)\n",
    "            self.rescaled_targets = torch.tensor(self.rescaled_targets)\n",
    "            self.original_targets = torch.tensor(targets_cos_sin)\n",
    "            inputs = []\n",
    "            for input in input_points:\n",
    "                combined = []\n",
    "                for coordinate in input:\n",
    "                    combined += coordinate\n",
    "                inputs.append(combined)\n",
    "            self.inputs = torch.tensor(np.array(inputs))\n",
    "            # self.inputs = torch.tensor(np.array(input_points))\n",
    "\n",
    "    def __len__(self):\n",
    "        return len(self.rescaled_targets)\n",
    "\n",
    "    def __getitem__(self, idx):\n",
    "        target = self.rescaled_targets[idx]\n",
    "        input = self.inputs[idx]\n",
    "        return input, target"
   ]
  },
  {
   "cell_type": "code",
   "execution_count": 4,
   "metadata": {},
   "outputs": [],
   "source": [
    "class Encoder(nn.Module):\n",
    "    def __init__(self):\n",
    "        super().__init__()\n",
    "        # self.layer1 = nn.Linear(30, 32)\n",
    "        # self.layer2 = nn.Linear(32, 64)\n",
    "        # self.layer3 = nn.Linear(64, 5)\n",
    "        self.layer1 = nn.Linear(30, 200)\n",
    "        self.layer2 = nn.Linear(200, 400)\n",
    "        self.layer3 = nn.Linear(400, 800)\n",
    "        self.layer4 = nn.Linear(800, 800)\n",
    "        self.layer5 = nn.Linear(800, 800)\n",
    "        self.layer6 = nn.Linear(800, 400)\n",
    "        self.layer7 = nn.Linear(400, 200)\n",
    "        self.output_layer = nn.Linear(200, 6)\n",
    "\n",
    "\n",
    "    def forward(self, x):\n",
    "        x = F.leaky_relu(self.layer1(x))\n",
    "        x = F.leaky_relu(self.layer2(x))\n",
    "        x = F.leaky_relu(self.layer3(x))\n",
    "        x = F.leaky_relu(self.layer4(x))\n",
    "        x = F.leaky_relu(self.layer5(x))\n",
    "        x = F.leaky_relu(self.layer6(x))\n",
    "        x = F.leaky_relu(self.layer7(x))\n",
    "        x = self.output_layer(x)\n",
    "        return x\n",
    "    \n",
    "class Decoder(nn.Module):\n",
    "\n",
    "    def __init__(self):\n",
    "        super().__init__()\n",
    "        # self.layer1 = nn.Linear(5, 64)\n",
    "        # self.layer2 = nn.Linear(64, 32)\n",
    "        # self.layer3 = nn.Linear(32, 30)\n",
    "        self.layer1 = nn.Linear(6, 200)\n",
    "        self.layer2 = nn.Linear(200, 200)\n",
    "        self.layer3 = nn.Linear(200, 200)\n",
    "        self.layer4 = nn.Linear(200, 400)\n",
    "        self.layer5 = nn.Linear(400, 800)\n",
    "        self.layer6 = nn.Linear(800, 800)\n",
    "        self.layer7 = nn.Linear(800, 800)\n",
    "        self.layer8 = nn.Linear(800, 400)\n",
    "        self.layer9 = nn.Linear(400, 200)\n",
    "        self.output_layer = nn.Linear(200, 30)\n",
    "\n",
    "    def forward(self, x):\n",
    "        x = F.relu(self.layer1(x))\n",
    "        x = F.relu(self.layer2(x))\n",
    "        x = F.relu(self.layer3(x))\n",
    "        x = F.relu(self.layer4(x))\n",
    "        x = F.relu(self.layer5(x))\n",
    "        x = F.relu(self.layer6(x))\n",
    "        x = F.relu(self.layer7(x))\n",
    "        x = F.relu(self.layer8(x))\n",
    "        x = F.relu(self.layer9(x))\n",
    "        x = self.output_layer(x)\n",
    "        return x"
   ]
  },
  {
   "cell_type": "code",
   "execution_count": 5,
   "metadata": {},
   "outputs": [],
   "source": [
    "# i need the original parameters, original input points, decoder output, encoder output, distances"
   ]
  },
  {
   "cell_type": "code",
   "execution_count": 6,
   "metadata": {},
   "outputs": [],
   "source": [
    "def calc_distance(encoder, decoder, encoder_optimizer, decoder_optimizer, encoder_scheduler, decoder_scheduler, val_dl, device, prev_encoder_path, prev_decoder_path, data_size):\n",
    "    print(f\"Loading model from {prev_encoder_path}\")\n",
    "    checkpoint = torch.load(prev_encoder_path)\n",
    "    encoder.load_state_dict(checkpoint['model_state_dict'])\n",
    "    encoder_optimizer.load_state_dict(checkpoint['optimizer_state_dict'])\n",
    "\n",
    "    print(f\"Loading model from {prev_decoder_path}\")\n",
    "    checkpoint = torch.load(prev_decoder_path)\n",
    "    decoder.load_state_dict(checkpoint['model_state_dict'])\n",
    "    decoder_optimizer.load_state_dict(checkpoint['optimizer_state_dict'])\n",
    "    \n",
    "    with torch.no_grad():\n",
    "        decoder_outputs = torch.zeros(data_size, 10, 3)\n",
    "        encoder_outputs = torch.zeros(data_size, 6)\n",
    "        distances = torch.zeros(data_size)\n",
    "        current_size = 0\n",
    "        for input, target in val_dl:\n",
    "            input = input.float().to(device)\n",
    "            target = target.float().to(device)\n",
    "            encoder_output = encoder(input)\n",
    "            decoder_output = decoder(encoder_output)\n",
    "            first_dim = torch.numel(decoder_output)  // 30\n",
    "            decoder_output = decoder_output.reshape(first_dim, 10, 3)\n",
    "            reshaped_points = input.reshape(first_dim, 10, 3)\n",
    "            squared_diff = (decoder_output - reshaped_points) ** 2\n",
    "            pairwise_distances = torch.sqrt(squared_diff.sum(dim=-1))\n",
    "            distance = pairwise_distances.sum(dim=-1)\n",
    "            # distance = torch.norm(decoder_output - reshaped_points, 2, dim=(1, 2))\n",
    "            # distance = torch.sum(torch.square(output_points - reshaped_points), dim=(1, 2))\n",
    "            distances[current_size:current_size + distance.shape[0]] = distance\n",
    "            encoder_outputs[current_size:current_size + distance.shape[0], :] = encoder_output\n",
    "            decoder_outputs[current_size:current_size + target.shape[0], :, :] = decoder_output\n",
    "            current_size += distance.shape[0]\n",
    "    \n",
    "    print(encoder_output)\n",
    "    print(decoder_output)\n",
    "        \n",
    "    return encoder_outputs, decoder_outputs, distances\n",
    "\n",
    "    # print(distances[-1])\n",
    "    # print(distances)\n",
    "    # print(distances.shape)\n",
    "    # print(torch.mean(distances))\n",
    "    # print(\"predictions:\", predictions)\n",
    "    # print(\"targets:\", targets)\n",
    "    # print(\"predicted helix but was actually non-helix\")\n",
    "    # predict_helix = predictions == 1\n",
    "    # wrong = predictions != targets\n",
    "    # mask = torch.logical_and(predict_helix, wrong)\n",
    "    # print(predictions[mask].size())\n",
    "    # print(\"predicted non-helix but was helix\")\n",
    "    # predict_non_helix = predictions == 0\n",
    "    # wrong = predictions != targets\n",
    "    # mask = torch.logical_and(predict_non_helix, wrong)\n",
    "    # print(predictions[mask].size())\n",
    "    # print((predictions == targets).float().mean().item())"
   ]
  },
  {
   "cell_type": "code",
   "execution_count": 7,
   "metadata": {},
   "outputs": [],
   "source": [
    "def run():\n",
    "    device = torch.device('cuda' if torch.cuda.is_available() else 'cpu')\n",
    "    print(f'Using device: {device}')\n",
    "\n",
    "    dataset = Dataset(HELIX_PATH)\n",
    "    train_size = int(TRAIN_RATIO * len(dataset))\n",
    "    val_size = len(dataset) - train_size\n",
    "\n",
    "    dataloader = DataLoader(dataset, batch_size=BATCH_SIZE, shuffle=False)\n",
    "\n",
    "    encoder = Encoder()\n",
    "    encoder = encoder.to(device)\n",
    "    decoder = Decoder()\n",
    "    decoder = decoder.to(device)\n",
    "\n",
    "    if torch.cuda.is_available():\n",
    "        encoder.cuda()\n",
    "        decoder.cuda()\n",
    "    encoder_criterion = nn.MSELoss()\n",
    "    decoder_criterion = nn.MSELoss()\n",
    "    encoder_optimizer = torch.optim.Adam(encoder.parameters(), lr = LEARNING_RATE)\n",
    "    decoder_optimizer = torch.optim.Adam(decoder.parameters(), lr = LEARNING_RATE)\n",
    "    encoder_scheduler = torch.optim.lr_scheduler.MultiStepLR(encoder_optimizer, milestones=[15, 30, 50], gamma=0.5)\n",
    "    decoder_scheduler = torch.optim.lr_scheduler.MultiStepLR(decoder_optimizer, milestones=[15, 30, 50], gamma=0.1)\n",
    "    \n",
    "    parameter_prediction, point_prediction, distances = calc_distance(encoder, decoder, encoder_optimizer, decoder_optimizer, encoder_scheduler, decoder_scheduler, val_dl=dataloader, device=device, \n",
    "                  prev_encoder_path=ENCODER_PATH, prev_decoder_path=DECODER_PATH, data_size=len(dataset))\n",
    "\n",
    "    return parameter_prediction, point_prediction, distances, dataset"
   ]
  },
  {
   "cell_type": "code",
   "execution_count": 8,
   "metadata": {},
   "outputs": [
    {
     "name": "stdout",
     "output_type": "stream",
     "text": [
      "Using device: cuda\n",
      "Loading model from autoencoder_points\\results_trig11_minmax\\encoder_epoch_100.pth\n",
      "Loading model from autoencoder_points\\results_trig11_minmax\\decoder_epoch_100.pth\n"
     ]
    },
    {
     "name": "stderr",
     "output_type": "stream",
     "text": [
      "C:\\Users\\sixsa\\AppData\\Local\\Temp\\ipykernel_29748\\537365674.py:3: FutureWarning: You are using `torch.load` with `weights_only=False` (the current default value), which uses the default pickle module implicitly. It is possible to construct malicious pickle data which will execute arbitrary code during unpickling (See https://github.com/pytorch/pytorch/blob/main/SECURITY.md#untrusted-models for more details). In a future release, the default value for `weights_only` will be flipped to `True`. This limits the functions that could be executed during unpickling. Arbitrary objects will no longer be allowed to be loaded via this mode unless they are explicitly allowlisted by the user via `torch.serialization.add_safe_globals`. We recommend you start setting `weights_only=True` for any use case where you don't have full control of the loaded file. Please open an issue on GitHub for any issues related to this experimental feature.\n",
      "  checkpoint = torch.load(prev_encoder_path)\n",
      "C:\\Users\\sixsa\\AppData\\Local\\Temp\\ipykernel_29748\\537365674.py:8: FutureWarning: You are using `torch.load` with `weights_only=False` (the current default value), which uses the default pickle module implicitly. It is possible to construct malicious pickle data which will execute arbitrary code during unpickling (See https://github.com/pytorch/pytorch/blob/main/SECURITY.md#untrusted-models for more details). In a future release, the default value for `weights_only` will be flipped to `True`. This limits the functions that could be executed during unpickling. Arbitrary objects will no longer be allowed to be loaded via this mode unless they are explicitly allowlisted by the user via `torch.serialization.add_safe_globals`. We recommend you start setting `weights_only=True` for any use case where you don't have full control of the loaded file. Please open an issue on GitHub for any issues related to this experimental feature.\n",
      "  checkpoint = torch.load(prev_decoder_path)\n"
     ]
    },
    {
     "name": "stdout",
     "output_type": "stream",
     "text": [
      "tensor([[0.1562, 0.8674, 0.7232, 0.3198, 0.2274, 0.0873],\n",
      "        [0.1843, 0.1802, 0.6955, 0.3860, 0.6081, 0.0101],\n",
      "        [0.1337, 0.0014, 0.4317, 0.4273, 0.0936, 0.2139],\n",
      "        ...,\n",
      "        [0.1477, 0.6103, 0.7657, 0.6165, 0.2624, 0.9399],\n",
      "        [0.1193, 0.4361, 0.6622, 0.4739, 0.4886, 0.9950],\n",
      "        [0.1354, 0.5501, 0.6650, 0.7514, 0.8078, 0.0999]], device='cuda:0')\n",
      "tensor([[[-0.8433,  0.5422,  2.5505],\n",
      "         [-1.6790,  1.0721,  3.1652],\n",
      "         [-2.5256,  1.6279,  3.8207],\n",
      "         ...,\n",
      "         [-6.8501,  4.1225,  6.9808],\n",
      "         [-7.7493,  4.5861,  7.6217],\n",
      "         [-8.6372,  5.0545,  8.2406]],\n",
      "\n",
      "        [[-0.9739, -0.2450,  2.1410],\n",
      "         [-1.9443, -0.4976,  2.5664],\n",
      "         [-2.8940, -0.8001,  2.9771],\n",
      "         ...,\n",
      "         [-7.5032, -2.7732,  5.0851],\n",
      "         [-8.3711, -3.2612,  5.5082],\n",
      "         [-9.2427, -3.7846,  5.9358]],\n",
      "\n",
      "        [[-0.6327,  0.7724, -0.4410],\n",
      "         [-1.3078,  1.5102, -0.1334],\n",
      "         [-2.0445,  2.1938,  0.1613],\n",
      "         ...,\n",
      "         [-6.4820,  4.6759,  1.7036],\n",
      "         [-7.5213,  4.9742,  2.0262],\n",
      "         [-8.5672,  5.1947,  2.3340]],\n",
      "\n",
      "        ...,\n",
      "\n",
      "        [[ 0.8619,  0.4858,  2.1223],\n",
      "         [ 1.7405,  0.9661,  1.8791],\n",
      "         [ 2.6233,  1.4760,  1.6282],\n",
      "         ...,\n",
      "         [ 6.8253,  4.2082,  0.3723],\n",
      "         [ 7.6287,  4.7795,  0.1292],\n",
      "         [ 8.4340,  5.3743, -0.1203]],\n",
      "\n",
      "        [[ 0.9902,  0.0353,  1.6268],\n",
      "         [ 1.9909,  0.0825,  1.7857],\n",
      "         [ 2.9925,  0.1495,  1.9529],\n",
      "         ...,\n",
      "         [ 7.9523,  0.7665,  2.7646],\n",
      "         [ 8.9359,  0.9460,  2.9299],\n",
      "         [ 9.9157,  1.1556,  3.0935]],\n",
      "\n",
      "        [[-0.7863, -0.6324,  0.8245],\n",
      "         [-1.5658, -1.2743,  0.1822],\n",
      "         [-2.3450, -1.9193, -0.4611],\n",
      "         ...,\n",
      "         [-6.0330, -5.3339, -3.6727],\n",
      "         [-6.7235, -6.0684, -4.3078],\n",
      "         [-7.4147, -6.7875, -4.9535]]], device='cuda:0')\n"
     ]
    }
   ],
   "source": [
    "parameters_prediction, points_prediction, distances, dataset = run()"
   ]
  },
  {
   "cell_type": "code",
   "execution_count": 9,
   "metadata": {},
   "outputs": [
    {
     "data": {
      "text/plain": [
       "tensor([[0.1082, 0.4114, 0.5001, 0.5248, 0.1176, 0.8224],\n",
       "        [0.1867, 0.8856, 0.4980, 0.4746, 0.0081, 0.5974],\n",
       "        [0.1173, 0.3245, 0.4128, 0.5919, 0.6547, 0.9682],\n",
       "        ...,\n",
       "        [0.1477, 0.6103, 0.7657, 0.6165, 0.2624, 0.9399],\n",
       "        [0.1193, 0.4361, 0.6622, 0.4739, 0.4886, 0.9950],\n",
       "        [0.1354, 0.5501, 0.6650, 0.7514, 0.8078, 0.0999]])"
      ]
     },
     "execution_count": 9,
     "metadata": {},
     "output_type": "execute_result"
    }
   ],
   "source": [
    "parameters_prediction"
   ]
  },
  {
   "cell_type": "code",
   "execution_count": 10,
   "metadata": {},
   "outputs": [
    {
     "name": "stdout",
     "output_type": "stream",
     "text": [
      "tensor([0.2627, 0.3125, 0.7820,  ..., 0.5238, 0.5991, 0.5923],\n",
      "       dtype=torch.float64)\n",
      "tensor([0.2627, 0.3125, 0.7820,  ..., 0.5238, 0.5991, 0.5923])\n"
     ]
    }
   ],
   "source": [
    "original_inputs = dataset.inputs.reshape(points_prediction.shape[0], 10, 3)\n",
    "# print(torch.sqrt(torch.sum(torch.square(points_prediction - original_inputs), dim=(1, 2))))\n",
    "squared_diff = (points_prediction - original_inputs) ** 2\n",
    "pairwise_distances = torch.sqrt(squared_diff.sum(dim=-1))\n",
    "print(pairwise_distances.sum(dim=-1))\n",
    "print(distances)"
   ]
  },
  {
   "cell_type": "code",
   "execution_count": 11,
   "metadata": {},
   "outputs": [],
   "source": [
    "def absolute_difference(prediction, actual):\n",
    "    return torch.abs(actual - prediction)\n",
    "\n",
    "def change_trig_to_angle(input):\n",
    "    cos_values = input[:, 4]\n",
    "    sin_values = input[:, 5]\n",
    "    pred_angle = torch.atan2(sin_values, cos_values)\n",
    "    pred_angle= torch.remainder(pred_angle, np.pi).reshape(input.shape[0], 1)\n",
    "    return torch.hstack((input[:, 0:1], pred_angle, input[:, 1:4]))"
   ]
  },
  {
   "cell_type": "code",
   "execution_count": 12,
   "metadata": {},
   "outputs": [],
   "source": [
    "parameters_prediction = dataset.scaler.inverse_transform(parameters_prediction)\n",
    "parameters_prediction = torch.tensor(parameters_prediction)\n",
    "parameters_prediction = change_trig_to_angle(parameters_prediction)\n",
    "original_parameters_with_angle = change_trig_to_angle(dataset.original_targets)"
   ]
  },
  {
   "cell_type": "code",
   "execution_count": 13,
   "metadata": {},
   "outputs": [],
   "source": [
    "# original_parameters_with_angle, original_inputs\n",
    "# inputs_prediction, parameters_prediction, distances"
   ]
  },
  {
   "cell_type": "code",
   "execution_count": 14,
   "metadata": {},
   "outputs": [
    {
     "name": "stdout",
     "output_type": "stream",
     "text": [
      "tensor([[10.1405,  0.4858,  2.2962,  3.2411,  3.6806]], dtype=torch.float64)\n"
     ]
    }
   ],
   "source": [
    "result_mae = torch.mean(absolute_difference(parameters_prediction, original_parameters_with_angle), dim=0)\n",
    "MIN_PER_COLUMN = torch.min(original_parameters_with_angle, dim=0, keepdim=True)\n",
    "MAX_PER_COLUMN = torch.max(original_parameters_with_angle, dim=0, keepdim=True)\n",
    "RANGE_PER_COLUMN = (MAX_PER_COLUMN.values - MIN_PER_COLUMN.values)\n",
    "RANGE_PER_COLUMN_NUMPY = RANGE_PER_COLUMN.numpy()\n",
    "print(torch.div(result_mae, RANGE_PER_COLUMN) * 100)\n",
    "\n",
    "def calculate_parameter_error(original, prediction):\n",
    "    original = np.array(original)\n",
    "    prediction = np.array(prediction)\n",
    "    error = np.abs(original - prediction)\n",
    "    return error / RANGE_PER_COLUMN_NUMPY * 100"
   ]
  },
  {
   "cell_type": "code",
   "execution_count": 15,
   "metadata": {},
   "outputs": [
    {
     "data": {
      "text/plain": [
       "tensor([[4.3000e-02, 3.1400e+00, 1.7499e+02, 8.8600e+00, 2.7000e+00]],\n",
       "       dtype=torch.float64)"
      ]
     },
     "execution_count": 15,
     "metadata": {},
     "output_type": "execute_result"
    }
   ],
   "source": [
    "RANGE_PER_COLUMN"
   ]
  },
  {
   "cell_type": "code",
   "execution_count": 15,
   "metadata": {},
   "outputs": [],
   "source": [
    "list_distances = distances.tolist()\n",
    "list_original_parameters_with_angle = original_parameters_with_angle.tolist()\n",
    "list_original_inputs = original_inputs.tolist()\n",
    "list_parameters_prediction = parameters_prediction.tolist()\n",
    "list_points_prediction = points_prediction.tolist()"
   ]
  },
  {
   "cell_type": "code",
   "execution_count": 16,
   "metadata": {},
   "outputs": [],
   "source": [
    "combined = zip(list_distances, list_original_parameters_with_angle, list_original_inputs, list_parameters_prediction, list_points_prediction)\n",
    "sorted_combined = sorted(combined)"
   ]
  },
  {
   "cell_type": "code",
   "execution_count": 17,
   "metadata": {},
   "outputs": [],
   "source": [
    "min_r0=1.0\n",
    "max_r0=10.0\n",
    "nlayers=10\n",
    "sigma=0.01\n",
    "\n",
    "def track(phi, d0,phi0,pt,dz,tanl):\n",
    "    alpha = 1/2 # 1/cB\n",
    "    q=1\n",
    "    kappa = q/pt\n",
    "    rho = alpha/kappa\n",
    "    x = d0*np.cos(phi0) + rho*(np.cos(phi0)-np.cos(phi0+phi))\n",
    "    y = d0*np.sin(phi0) + rho*(np.sin(phi0)-np.sin(phi0+phi))\n",
    "    z = dz - rho*tanl*phi\n",
    "    return x,y,z\n",
    "\n",
    "def dr(phi, r02,d0,phi0,pt,dz,tanl):\n",
    "\n",
    "    # get the xyz of the track at this phi\n",
    "    x,y,z = track(phi, d0,phi0,pt,dz,tanl)\n",
    "    r2=x*x+y*y\n",
    "\n",
    "    # get the distance from the target r02\n",
    "    dr = np.fabs(r2-r02)\n",
    "\n",
    "    return dr\n",
    "\n",
    "def find_phi(r0, d0,phi0,pt,dz,tanl):\n",
    "\n",
    "    # this is lazy, but rather than inverting the equations we just minimize the distance\n",
    "    res = scipy.optimize.minimize(dr,0,method='Nelder-Mead',args = (r0, d0,phi0,pt,dz,tanl))#, bounds =(0,1.0))\n",
    "\n",
    "    return res.x[0]\n",
    "\n",
    "\n",
    "# find the intersections with the detector layers for these track parameters, add noise\n",
    "def make_hits(params):\n",
    "    xs=[]\n",
    "    ys=[]\n",
    "    zs =[]\n",
    "    \n",
    "    for r0 in np.linspace(min_r0,max_r0,nlayers):\n",
    "        phi0 = find_phi(r0*r0,*params)\n",
    "        x0,y0,z0 = track(phi0,*params)\n",
    "        xs.append(x0)\n",
    "        ys.append(y0)\n",
    "        zs.append(z0)\n",
    "\n",
    "\n",
    "    return xs,ys,zs"
   ]
  },
  {
   "cell_type": "code",
   "execution_count": 39,
   "metadata": {},
   "outputs": [],
   "source": [
    "def separateXYZ(combined):\n",
    "    x = [x for x, y, z in combined]\n",
    "    y = [y for x, y, z in combined]\n",
    "    z = [z for x, y, z in combined]\n",
    "\n",
    "    return x, y, z\n",
    "\n",
    "def plotTracks(combined):\n",
    "    distances, original_targets, original_points, predicted_targets, predicted_points = combined\n",
    "    original_x, original_y, original_z = make_hits(original_targets)\n",
    "    pred_x, pred_y, pred_z = make_hits(predicted_targets)\n",
    "\n",
    "    figure, axis = plt.subplots(1, 2)\n",
    "    axis[0].plot(original_x,original_y,\".\",color='green')\n",
    "    axis[0].plot(pred_x,pred_y,\"x\",color='red')\n",
    "    axis[0].legend([\"original xy\", \"predicted_xy\"])\n",
    "    axis[0].set_xlim(-10, 10)\n",
    "    axis[0].set_ylim(-10, 10)\n",
    "\n",
    "    axis[1].plot(original_x,original_z,\".\",color='green')\n",
    "    axis[1].plot(pred_x,pred_z,\"x\",color='red')\n",
    "    axis[1].legend([\"original xz\", \"predicted_xz\"])\n",
    "    axis[1].set_xlim(-10, 10)\n",
    "    axis[1].set_ylim(-10, 10)\n",
    "    plt.show()\n",
    "\n",
    "\n",
    "def plotPoints(combined):\n",
    "    distances, original_targets, original_points, predicted_targets, predicted_points = combined\n",
    "    original_x, original_y, original_z = separateXYZ(original_points)\n",
    "    pred_x, pred_y, pred_z = separateXYZ(predicted_points)\n",
    "\n",
    "    original_param_x, original_param_y, original_param_z = make_hits(original_targets)\n",
    "    pred_param_x, pred_param_y, pred_param_z = make_hits(predicted_targets)\n",
    "\n",
    "    print(\"original:\", original_targets)\n",
    "    print(\"predicted:\", predicted_targets)\n",
    "    print(\"error:\", calculate_parameter_error(original_targets, predicted_targets))\n",
    "    print(\"distance:\", distances)\n",
    "\n",
    "    figure, axis = plt.subplots(1, 2)\n",
    "    axis[0].plot(original_x,original_y,\".\",color='green')\n",
    "    axis[0].plot(pred_x,pred_y,\".\",color='red')\n",
    "    # axis[0].plot(original_param_x,original_param_y,\"x\",color='blue')\n",
    "    # axis[0].plot(pred_param_x,pred_param_y,\"x\",color='orange')\n",
    "    axis[0].legend([\"original xy\", \"predicted_xy\"])\n",
    "    axis[0].set_xlim(-10, 10)\n",
    "    axis[0].set_ylim(-10, 10)\n",
    "\n",
    "    axis[1].plot(original_x,original_z,\".\",color='green')\n",
    "    axis[1].plot(pred_x,pred_z,\".\",color='red')\n",
    "    # axis[1].plot(original_param_x,original_param_z,\"x\",color='blue')\n",
    "    # axis[1].plot(pred_param_x,pred_param_z,\"x\",color='orange')\n",
    "    axis[1].legend([\"original xz\", \"predicted_xz\"])\n",
    "    axis[1].set_xlim(-10, 10)\n",
    "    axis[1].set_ylim(-10, 10)\n",
    "    plt.show()\n"
   ]
  },
  {
   "cell_type": "code",
   "execution_count": 48,
   "metadata": {},
   "outputs": [
    {
     "name": "stdout",
     "output_type": "stream",
     "text": [
      "original: [0.0172, 1.79, 26.75, -1.34, -0.5]\n",
      "predicted: [0.00695763366818428, 1.791751239865125, 27.642990236617624, -1.056162536740303, -0.3338454744219782]\n",
      "error: [[20.04376973  0.05577197  0.5103093   3.22176462  6.04198275]]\n",
      "distance: 3.7627792358398438\n"
     ]
    },
    {
     "data": {
      "image/png": "[encoded data removed]",
      "text/plain": [
       "<Figure size 640x480 with 2 Axes>"
      ]
     },
     "metadata": {},
     "output_type": "display_data"
    }
   ],
   "source": [
    "target = sorted_combined[-19]\n",
    "plotPoints(target)"
   ]
  }
 ],
 "metadata": {
  "kernelspec": {
   "display_name": "helix",
   "language": "python",
   "name": "python3"
  },
  "language_info": {
   "codemirror_mode": {
    "name": "ipython",
    "version": 3
   },
   "file_extension": ".py",
   "mimetype": "text/x-python",
   "name": "python",
   "nbconvert_exporter": "python",
   "pygments_lexer": "ipython3",
   "version": "3.12.4"
  }
 },
 "nbformat": 4,
 "nbformat_minor": 2
}
